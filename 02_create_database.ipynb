{
 "cells": [
  {
   "cell_type": "code",
   "execution_count": 1,
   "id": "796f9ac5-f1cb-43a5-89f3-d26d4dc1563f",
   "metadata": {},
   "outputs": [],
   "source": [
    "import pandas as pd\n",
    "import sqlite3"
   ]
  },
  {
   "cell_type": "code",
   "execution_count": 2,
   "id": "d0fe1cac-8a44-4e04-876f-b7cb36cf31cf",
   "metadata": {},
   "outputs": [
    {
     "name": "stdout",
     "output_type": "stream",
     "text": [
      "Reading Excel files...\n"
     ]
    }
   ],
   "source": [
    "print(\"Reading Excel files...\")\n",
    "df_sales = pd.read_excel('sales.xlsx')\n",
    "df_products = pd.read_excel('products.xlsx')"
   ]
  },
  {
   "cell_type": "code",
   "execution_count": 3,
   "id": "df3bbf64-8fbd-441c-9b7d-c25797f41f30",
   "metadata": {},
   "outputs": [
    {
     "name": "stdout",
     "output_type": "stream",
     "text": [
      "Connecting to the database.\n"
     ]
    }
   ],
   "source": [
    "print(\"Connecting to the database.\")\n",
    "conn = sqlite3.connect(\"pasha_mouse_shop.db\")"
   ]
  },
  {
   "cell_type": "code",
   "execution_count": 4,
   "id": "2228f6c6-b969-4499-b1f9-73b526191841",
   "metadata": {},
   "outputs": [
    {
     "name": "stdout",
     "output_type": "stream",
     "text": [
      "Loading data into SQL tables.\n"
     ]
    },
    {
     "data": {
      "text/plain": [
       "1000"
      ]
     },
     "execution_count": 4,
     "metadata": {},
     "output_type": "execute_result"
    }
   ],
   "source": [
    "print(\"Loading data into SQL tables.\")\n",
    "df_products.to_sql('products', conn, if_exists='replace', index='false')\n",
    "df_sales.to_sql('sales', conn, if_exists='replace', index='false')"
   ]
  },
  {
   "cell_type": "code",
   "execution_count": 5,
   "id": "29ac4cae-249a-4743-a80f-494c4520374e",
   "metadata": {},
   "outputs": [
    {
     "name": "stdout",
     "output_type": "stream",
     "text": [
      "Closing connection.\n"
     ]
    }
   ],
   "source": [
    "print(\"Closing connection.\")\n",
    "conn.close()"
   ]
  },
  {
   "cell_type": "code",
   "execution_count": 6,
   "id": "4eed418e-5115-4de6-9ad4-63a0283defe5",
   "metadata": {},
   "outputs": [
    {
     "name": "stdout",
     "output_type": "stream",
     "text": [
      "\n",
      "SUCCESS! Database 'pasha_mouse_shop.db' with tables 'products' and 'sales' successfully created!\n"
     ]
    }
   ],
   "source": [
    "print(\"\\nSUCCESS! Database 'pasha_mouse_shop.db' with tables 'products' and 'sales' successfully created!\")"
   ]
  },
  {
   "cell_type": "code",
   "execution_count": null,
   "id": "6c3d8f00-0966-4e56-bb54-5496bcc3a88c",
   "metadata": {},
   "outputs": [],
   "source": []
  }
 ],
 "metadata": {
  "kernelspec": {
   "display_name": "Python [conda env:base] *",
   "language": "python",
   "name": "conda-base-py"
  },
  "language_info": {
   "codemirror_mode": {
    "name": "ipython",
    "version": 3
   },
   "file_extension": ".py",
   "mimetype": "text/x-python",
   "name": "python",
   "nbconvert_exporter": "python",
   "pygments_lexer": "ipython3",
   "version": "3.13.5"
  }
 },
 "nbformat": 4,
 "nbformat_minor": 5
}
