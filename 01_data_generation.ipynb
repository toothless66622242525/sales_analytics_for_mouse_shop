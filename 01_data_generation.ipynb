{
 "cells": [
  {
   "cell_type": "code",
   "execution_count": 1,
   "id": "0bbe6754-0e2d-451c-b11e-b3dcc9f41a75",
   "metadata": {},
   "outputs": [],
   "source": [
    "import pandas as pd"
   ]
  },
  {
   "cell_type": "code",
   "execution_count": 2,
   "id": "adcadd64-567d-4945-9c29-472d1981cc94",
   "metadata": {},
   "outputs": [
    {
     "data": {
      "text/html": [
       "<div>\n",
       "<style scoped>\n",
       "    .dataframe tbody tr th:only-of-type {\n",
       "        vertical-align: middle;\n",
       "    }\n",
       "\n",
       "    .dataframe tbody tr th {\n",
       "        vertical-align: top;\n",
       "    }\n",
       "\n",
       "    .dataframe thead th {\n",
       "        text-align: right;\n",
       "    }\n",
       "</style>\n",
       "<table border=\"1\" class=\"dataframe\">\n",
       "  <thead>\n",
       "    <tr style=\"text-align: right;\">\n",
       "      <th></th>\n",
       "      <th>product_id</th>\n",
       "      <th>product_name</th>\n",
       "      <th>price</th>\n",
       "    </tr>\n",
       "  </thead>\n",
       "  <tbody>\n",
       "    <tr>\n",
       "      <th>0</th>\n",
       "      <td>101</td>\n",
       "      <td>Logitech G102</td>\n",
       "      <td>25</td>\n",
       "    </tr>\n",
       "    <tr>\n",
       "      <th>1</th>\n",
       "      <td>102</td>\n",
       "      <td>Razer Viper Mini</td>\n",
       "      <td>40</td>\n",
       "    </tr>\n",
       "    <tr>\n",
       "      <th>2</th>\n",
       "      <td>103</td>\n",
       "      <td>SteelSeries Rival 3</td>\n",
       "      <td>30</td>\n",
       "    </tr>\n",
       "    <tr>\n",
       "      <th>3</th>\n",
       "      <td>104</td>\n",
       "      <td>Zowie EC2</td>\n",
       "      <td>70</td>\n",
       "    </tr>\n",
       "    <tr>\n",
       "      <th>4</th>\n",
       "      <td>105</td>\n",
       "      <td>HyperX Pulsefire Haste</td>\n",
       "      <td>50</td>\n",
       "    </tr>\n",
       "  </tbody>\n",
       "</table>\n",
       "</div>"
      ],
      "text/plain": [
       "   product_id            product_name  price\n",
       "0         101           Logitech G102     25\n",
       "1         102        Razer Viper Mini     40\n",
       "2         103     SteelSeries Rival 3     30\n",
       "3         104               Zowie EC2     70\n",
       "4         105  HyperX Pulsefire Haste     50"
      ]
     },
     "metadata": {},
     "output_type": "display_data"
    }
   ],
   "source": [
    "products_data = {\n",
    "    'product_id': [101, 102, 103, 104, 105],\n",
    "    'product_name': ['Logitech G102', 'Razer Viper Mini', 'SteelSeries Rival 3', 'Zowie EC2', 'HyperX Pulsefire Haste'],\n",
    "    'price': [25, 40, 30, 70, 50]\n",
    "}\n",
    "df_products = pd.DataFrame(products_data)\n",
    "display(df_products)"
   ]
  },
  {
   "cell_type": "code",
   "execution_count": 3,
   "id": "8beb0730-631c-4d8a-bcb5-06157382dc2a",
   "metadata": {},
   "outputs": [],
   "source": [
    "import numpy as np\n",
    "import random\n",
    "from datetime import timedelta, datetime\n",
    "\n",
    "num_sales = 1000\n",
    "product_ids = df_products['product_id'].tolist()\n",
    "cities = ['Тольятти', 'Самара', 'Москва', 'Санкт-Петербург', 'Казань']\n",
    "start_date = datetime(2024, 7, 25)\n",
    "end_date = datetime(2025, 7, 25)"
   ]
  },
  {
   "cell_type": "code",
   "execution_count": 4,
   "id": "6ebfc156-f2c9-4535-9ed5-518c64892eb5",
   "metadata": {},
   "outputs": [],
   "source": [
    "total_seconds_period = int((end_date - start_date).total_seconds())\n",
    "\n",
    "random_seconds_list = [random.randint(0, total_seconds_period) for _ in range(num_sales)]\n",
    "\n",
    "date_list = [start_date + timedelta(seconds=sec) for sec in random_seconds_list]"
   ]
  },
  {
   "cell_type": "code",
   "execution_count": 5,
   "id": "5e01d6fc-ac08-428a-856b-27c185f62e54",
   "metadata": {},
   "outputs": [
    {
     "data": {
      "text/html": [
       "<div>\n",
       "<style scoped>\n",
       "    .dataframe tbody tr th:only-of-type {\n",
       "        vertical-align: middle;\n",
       "    }\n",
       "\n",
       "    .dataframe tbody tr th {\n",
       "        vertical-align: top;\n",
       "    }\n",
       "\n",
       "    .dataframe thead th {\n",
       "        text-align: right;\n",
       "    }\n",
       "</style>\n",
       "<table border=\"1\" class=\"dataframe\">\n",
       "  <thead>\n",
       "    <tr style=\"text-align: right;\">\n",
       "      <th></th>\n",
       "      <th>sale_id</th>\n",
       "      <th>product_id</th>\n",
       "      <th>quantity</th>\n",
       "      <th>customer_id</th>\n",
       "      <th>date</th>\n",
       "      <th>city</th>\n",
       "    </tr>\n",
       "  </thead>\n",
       "  <tbody>\n",
       "    <tr>\n",
       "      <th>0</th>\n",
       "      <td>1</td>\n",
       "      <td>102</td>\n",
       "      <td>2</td>\n",
       "      <td>1130</td>\n",
       "      <td>2024-12-23 21:36:20</td>\n",
       "      <td>Казань</td>\n",
       "    </tr>\n",
       "    <tr>\n",
       "      <th>1</th>\n",
       "      <td>2</td>\n",
       "      <td>103</td>\n",
       "      <td>2</td>\n",
       "      <td>1139</td>\n",
       "      <td>2025-02-23 17:28:52</td>\n",
       "      <td>Тольятти</td>\n",
       "    </tr>\n",
       "    <tr>\n",
       "      <th>2</th>\n",
       "      <td>3</td>\n",
       "      <td>103</td>\n",
       "      <td>3</td>\n",
       "      <td>1058</td>\n",
       "      <td>2024-09-12 02:00:13</td>\n",
       "      <td>Казань</td>\n",
       "    </tr>\n",
       "    <tr>\n",
       "      <th>3</th>\n",
       "      <td>4</td>\n",
       "      <td>105</td>\n",
       "      <td>2</td>\n",
       "      <td>1169</td>\n",
       "      <td>2025-01-06 08:57:48</td>\n",
       "      <td>Тольятти</td>\n",
       "    </tr>\n",
       "    <tr>\n",
       "      <th>4</th>\n",
       "      <td>5</td>\n",
       "      <td>102</td>\n",
       "      <td>1</td>\n",
       "      <td>1168</td>\n",
       "      <td>2024-09-28 06:26:45</td>\n",
       "      <td>Казань</td>\n",
       "    </tr>\n",
       "  </tbody>\n",
       "</table>\n",
       "</div>"
      ],
      "text/plain": [
       "   sale_id  product_id  quantity  customer_id                date      city\n",
       "0        1         102         2         1130 2024-12-23 21:36:20    Казань\n",
       "1        2         103         2         1139 2025-02-23 17:28:52  Тольятти\n",
       "2        3         103         3         1058 2024-09-12 02:00:13    Казань\n",
       "3        4         105         2         1169 2025-01-06 08:57:48  Тольятти\n",
       "4        5         102         1         1168 2024-09-28 06:26:45    Казань"
      ]
     },
     "metadata": {},
     "output_type": "display_data"
    },
    {
     "name": "stdout",
     "output_type": "stream",
     "text": [
      "Сгенерировано 1000 записей о продажах.\n"
     ]
    }
   ],
   "source": [
    "sales_data = {\n",
    "    'sale_id': range(1, num_sales + 1),\n",
    "    'product_id': [random.choice(product_ids) for _ in range(num_sales)],\n",
    "    'quantity': [random.randint(1,3) for _ in range(num_sales)],\n",
    "    'customer_id': [random.randint(1000,1300) for _ in range(num_sales)],\n",
    "    'date': date_list,\n",
    "    'city': [random.choice(cities) for _ in range(num_sales)]\n",
    "}\n",
    "    \n",
    "    \n",
    "df_sales = pd.DataFrame(sales_data)\n",
    "\n",
    "\n",
    "display(df_sales.head())\n",
    "print(f\"Сгенерировано {len(df_sales)} записей о продажах.\")"
   ]
  },
  {
   "cell_type": "code",
   "execution_count": 6,
   "id": "f48c8d9a-275e-41b8-9755-61e1f61aecb8",
   "metadata": {},
   "outputs": [
    {
     "name": "stdout",
     "output_type": "stream",
     "text": [
      "Files 'products.xlsx' and 'sales.xlsx' have been succesufully created!\n"
     ]
    }
   ],
   "source": [
    "df_products.to_excel('products.xlsx', index=False)\n",
    "df_sales.to_excel('sales.xlsx', index=False)\n",
    "\n",
    "print(\"Files 'products.xlsx' and 'sales.xlsx' have been succesufully created!\")"
   ]
  },
  {
   "cell_type": "code",
   "execution_count": null,
   "id": "6cd2aa40-6499-4d51-a6e8-5633a0f6c0d1",
   "metadata": {},
   "outputs": [],
   "source": []
  }
 ],
 "metadata": {
  "kernelspec": {
   "display_name": "Python [conda env:base] *",
   "language": "python",
   "name": "conda-base-py"
  },
  "language_info": {
   "codemirror_mode": {
    "name": "ipython",
    "version": 3
   },
   "file_extension": ".py",
   "mimetype": "text/x-python",
   "name": "python",
   "nbconvert_exporter": "python",
   "pygments_lexer": "ipython3",
   "version": "3.13.5"
  }
 },
 "nbformat": 4,
 "nbformat_minor": 5
}
